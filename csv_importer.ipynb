{
  "cells": [
    {
      "attachments": {},
      "cell_type": "markdown",
      "metadata": {
        "id": "Wbyt-fQ6XtHk"
      },
      "source": [
        "Step 1: Copy CSV File inside **/content** folder"
      ]
    },
    {
      "cell_type": "code",
      "execution_count": 41,
      "metadata": {
        "tags": []
      },
      "outputs": [],
      "source": [
        "#@title Prerequisite: Require or Download all the needed dependencies {display-mode: \"form\"}\n",
        "\n",
        "try:\n",
        "  import os\n",
        "  import pandas as pd\n",
        "  #import numpy as np\n",
        "except ModuleNotFoundError:\n",
        "  %pip install pandas\n",
        "  #%pip install numpy"
      ]
    },
    {
      "cell_type": "markdown",
      "metadata": {},
      "source": [
        "Step 2: Insert CSV file name (example: \"myimport_file.csv\")"
      ]
    },
    {
      "cell_type": "code",
      "execution_count": 42,
      "metadata": {},
      "outputs": [],
      "source": [
        "#@title Step 2: Insert CSV file name (example: \"myimport_file.csv\") {display-mode: \"form\"}\n",
        "\n",
        "#CHANGE THIS VALUE\n",
        "csv_file_name = \"organizations.csv\""
      ]
    },
    {
      "cell_type": "markdown",
      "metadata": {},
      "source": [
        "Step 3: Load data from CSV file"
      ]
    },
    {
      "cell_type": "code",
      "execution_count": 43,
      "metadata": {
        "colab": {
          "base_uri": "https://localhost:8080/",
          "height": 486
        },
        "id": "mGcOfZzQalLY",
        "outputId": "3927ff88-f712-4b8a-e448-8344bc62853b"
      },
      "outputs": [
        {
          "name": "stdout",
          "output_type": "stream",
          "text": [
            "data loaded from csv file: \n"
          ]
        },
        {
          "data": {
            "text/html": [
              "<div>\n",
              "<style scoped>\n",
              "    .dataframe tbody tr th:only-of-type {\n",
              "        vertical-align: middle;\n",
              "    }\n",
              "\n",
              "    .dataframe tbody tr th {\n",
              "        vertical-align: top;\n",
              "    }\n",
              "\n",
              "    .dataframe thead th {\n",
              "        text-align: right;\n",
              "    }\n",
              "</style>\n",
              "<table border=\"1\" class=\"dataframe\">\n",
              "  <thead>\n",
              "    <tr style=\"text-align: right;\">\n",
              "      <th></th>\n",
              "      <th>Index</th>\n",
              "      <th>Organization Id</th>\n",
              "      <th>Name</th>\n",
              "      <th>Website</th>\n",
              "      <th>Country</th>\n",
              "      <th>Description</th>\n",
              "      <th>Founded</th>\n",
              "      <th>Industry</th>\n",
              "      <th>Number of employees</th>\n",
              "    </tr>\n",
              "  </thead>\n",
              "  <tbody>\n",
              "    <tr>\n",
              "      <th>0</th>\n",
              "      <td>1</td>\n",
              "      <td>FAB0d41d5b5d22c</td>\n",
              "      <td>Ferrell LLC</td>\n",
              "      <td>https://price.net/</td>\n",
              "      <td>Papua New Guinea</td>\n",
              "      <td>Horizontal empowering knowledgebase</td>\n",
              "      <td>1990</td>\n",
              "      <td>Plastics</td>\n",
              "      <td>3498</td>\n",
              "    </tr>\n",
              "    <tr>\n",
              "      <th>1</th>\n",
              "      <td>2</td>\n",
              "      <td>6A7EdDEA9FaDC52</td>\n",
              "      <td>Mckinney, Riley and Day</td>\n",
              "      <td>http://www.hall-buchanan.info/</td>\n",
              "      <td>Finland</td>\n",
              "      <td>User-centric system-worthy leverage</td>\n",
              "      <td>2015</td>\n",
              "      <td>Glass / Ceramics / Concrete</td>\n",
              "      <td>4952</td>\n",
              "    </tr>\n",
              "    <tr>\n",
              "      <th>2</th>\n",
              "      <td>3</td>\n",
              "      <td>0bFED1ADAE4bcC1</td>\n",
              "      <td>Hester Ltd</td>\n",
              "      <td>http://sullivan-reed.com/</td>\n",
              "      <td>China</td>\n",
              "      <td>Switchable scalable moratorium</td>\n",
              "      <td>1971</td>\n",
              "      <td>Public Safety</td>\n",
              "      <td>5287</td>\n",
              "    </tr>\n",
              "    <tr>\n",
              "      <th>3</th>\n",
              "      <td>4</td>\n",
              "      <td>2bFC1Be8a4ce42f</td>\n",
              "      <td>Holder-Sellers</td>\n",
              "      <td>https://becker.com/</td>\n",
              "      <td>Turkmenistan</td>\n",
              "      <td>De-engineered systemic artificial intelligence</td>\n",
              "      <td>2004</td>\n",
              "      <td>Automotive</td>\n",
              "      <td>921</td>\n",
              "    </tr>\n",
              "    <tr>\n",
              "      <th>4</th>\n",
              "      <td>5</td>\n",
              "      <td>9eE8A6a4Eb96C24</td>\n",
              "      <td>Mayer Group</td>\n",
              "      <td>http://www.brewer.com/</td>\n",
              "      <td>Mauritius</td>\n",
              "      <td>Synchronized needs-based challenge</td>\n",
              "      <td>1991</td>\n",
              "      <td>Transportation</td>\n",
              "      <td>7870</td>\n",
              "    </tr>\n",
              "    <tr>\n",
              "      <th>...</th>\n",
              "      <td>...</td>\n",
              "      <td>...</td>\n",
              "      <td>...</td>\n",
              "      <td>...</td>\n",
              "      <td>...</td>\n",
              "      <td>...</td>\n",
              "      <td>...</td>\n",
              "      <td>...</td>\n",
              "      <td>...</td>\n",
              "    </tr>\n",
              "    <tr>\n",
              "      <th>95</th>\n",
              "      <td>96</td>\n",
              "      <td>0a0bfFbBbB8eC7c</td>\n",
              "      <td>Holmes Group</td>\n",
              "      <td>https://mcdowell.org/</td>\n",
              "      <td>Ethiopia</td>\n",
              "      <td>Right-sized zero tolerance focus group</td>\n",
              "      <td>1975</td>\n",
              "      <td>Photography</td>\n",
              "      <td>2988</td>\n",
              "    </tr>\n",
              "    <tr>\n",
              "      <th>96</th>\n",
              "      <td>97</td>\n",
              "      <td>BA6Cd9Dae2Efd62</td>\n",
              "      <td>Good Ltd</td>\n",
              "      <td>http://duffy.com/</td>\n",
              "      <td>Anguilla</td>\n",
              "      <td>Reverse-engineered composite moratorium</td>\n",
              "      <td>1971</td>\n",
              "      <td>Consumer Services</td>\n",
              "      <td>4292</td>\n",
              "    </tr>\n",
              "    <tr>\n",
              "      <th>97</th>\n",
              "      <td>98</td>\n",
              "      <td>E7df80C60Abd7f9</td>\n",
              "      <td>Clements-Espinoza</td>\n",
              "      <td>http://www.flowers.net/</td>\n",
              "      <td>Falkland Islands (Malvinas)</td>\n",
              "      <td>Progressive modular hub</td>\n",
              "      <td>1991</td>\n",
              "      <td>Broadcast Media</td>\n",
              "      <td>236</td>\n",
              "    </tr>\n",
              "    <tr>\n",
              "      <th>98</th>\n",
              "      <td>99</td>\n",
              "      <td>AFc285dbE2fEd24</td>\n",
              "      <td>Mendez Inc</td>\n",
              "      <td>https://www.burke.net/</td>\n",
              "      <td>Kyrgyz Republic</td>\n",
              "      <td>User-friendly exuding migration</td>\n",
              "      <td>1993</td>\n",
              "      <td>Education Management</td>\n",
              "      <td>339</td>\n",
              "    </tr>\n",
              "    <tr>\n",
              "      <th>99</th>\n",
              "      <td>100</td>\n",
              "      <td>e9eB5A60Cef8354</td>\n",
              "      <td>Watkins-Kaiser</td>\n",
              "      <td>http://www.herring.com/</td>\n",
              "      <td>Togo</td>\n",
              "      <td>Synergistic background access</td>\n",
              "      <td>2009</td>\n",
              "      <td>Financial Services</td>\n",
              "      <td>2785</td>\n",
              "    </tr>\n",
              "  </tbody>\n",
              "</table>\n",
              "<p>100 rows × 9 columns</p>\n",
              "</div>"
            ],
            "text/plain": [
              "    Index  Organization Id                     Name  \\\n",
              "0       1  FAB0d41d5b5d22c              Ferrell LLC   \n",
              "1       2  6A7EdDEA9FaDC52  Mckinney, Riley and Day   \n",
              "2       3  0bFED1ADAE4bcC1               Hester Ltd   \n",
              "3       4  2bFC1Be8a4ce42f           Holder-Sellers   \n",
              "4       5  9eE8A6a4Eb96C24              Mayer Group   \n",
              "..    ...              ...                      ...   \n",
              "95     96  0a0bfFbBbB8eC7c             Holmes Group   \n",
              "96     97  BA6Cd9Dae2Efd62                 Good Ltd   \n",
              "97     98  E7df80C60Abd7f9        Clements-Espinoza   \n",
              "98     99  AFc285dbE2fEd24               Mendez Inc   \n",
              "99    100  e9eB5A60Cef8354           Watkins-Kaiser   \n",
              "\n",
              "                           Website                      Country  \\\n",
              "0               https://price.net/             Papua New Guinea   \n",
              "1   http://www.hall-buchanan.info/                      Finland   \n",
              "2        http://sullivan-reed.com/                        China   \n",
              "3              https://becker.com/                 Turkmenistan   \n",
              "4           http://www.brewer.com/                    Mauritius   \n",
              "..                             ...                          ...   \n",
              "95           https://mcdowell.org/                     Ethiopia   \n",
              "96               http://duffy.com/                     Anguilla   \n",
              "97         http://www.flowers.net/  Falkland Islands (Malvinas)   \n",
              "98          https://www.burke.net/              Kyrgyz Republic   \n",
              "99         http://www.herring.com/                         Togo   \n",
              "\n",
              "                                       Description  Founded  \\\n",
              "0              Horizontal empowering knowledgebase     1990   \n",
              "1              User-centric system-worthy leverage     2015   \n",
              "2                   Switchable scalable moratorium     1971   \n",
              "3   De-engineered systemic artificial intelligence     2004   \n",
              "4               Synchronized needs-based challenge     1991   \n",
              "..                                             ...      ...   \n",
              "95          Right-sized zero tolerance focus group     1975   \n",
              "96         Reverse-engineered composite moratorium     1971   \n",
              "97                         Progressive modular hub     1991   \n",
              "98                 User-friendly exuding migration     1993   \n",
              "99                   Synergistic background access     2009   \n",
              "\n",
              "                       Industry  Number of employees  \n",
              "0                      Plastics                 3498  \n",
              "1   Glass / Ceramics / Concrete                 4952  \n",
              "2                 Public Safety                 5287  \n",
              "3                    Automotive                  921  \n",
              "4                Transportation                 7870  \n",
              "..                          ...                  ...  \n",
              "95                  Photography                 2988  \n",
              "96            Consumer Services                 4292  \n",
              "97              Broadcast Media                  236  \n",
              "98         Education Management                  339  \n",
              "99           Financial Services                 2785  \n",
              "\n",
              "[100 rows x 9 columns]"
            ]
          },
          "execution_count": 43,
          "metadata": {},
          "output_type": "execute_result"
        }
      ],
      "source": [
        "#@title Step 3: Load data from CSV file {display-mode: \"form\"}\n",
        "csv_file = os.getcwd() + \"/content/\" + csv_file_name\n",
        "if os.path.exists(csv_file):\n",
        "    dataframe = pd.read_csv(csv_file)\n",
        "    gene_data = dataframe.to_dict(orient=\"records\")\n",
        "    print(\"data loaded from csv file: \")\n",
        "    dataframe\n",
        "else:\n",
        "    raise Exception(\"Please upload a file inside content folder and set the right csv file name in Step 2\")\n",
        "dataframe"
      ]
    },
    {
      "cell_type": "markdown",
      "metadata": {},
      "source": [
        "Step 4: Export as excel file"
      ]
    },
    {
      "cell_type": "code",
      "execution_count": 44,
      "metadata": {},
      "outputs": [
        {
          "name": "stdout",
          "output_type": "stream",
          "text": [
            "Excel created successfully.\n"
          ]
        }
      ],
      "source": [
        "#@title Step 4: Export as excel file {display-mode: \"form\"}\n",
        "\n",
        "# SEE https://pandas.pydata.org/docs/reference/api/pandas.DataFrame.to_excel.html to find all parameters\n",
        "\n",
        "dataframe.to_excel(os.getcwd() + \"/content/output_full.xlsx\", sheet_name=\"main\", index=False)\n",
        "print('Excel created successfully.')"
      ]
    },
    {
      "cell_type": "markdown",
      "metadata": {},
      "source": [
        "Step 5.1: Filter data by a column"
      ]
    },
    {
      "cell_type": "code",
      "execution_count": 45,
      "metadata": {
        "colab": {
          "base_uri": "https://localhost:8080/",
          "height": 519
        },
        "id": "G2Z5LfuxyfdM",
        "outputId": "cd0eed5a-a347-4fa3-bdda-c2b31365ee2f"
      },
      "outputs": [
        {
          "data": {
            "text/html": [
              "<div>\n",
              "<style scoped>\n",
              "    .dataframe tbody tr th:only-of-type {\n",
              "        vertical-align: middle;\n",
              "    }\n",
              "\n",
              "    .dataframe tbody tr th {\n",
              "        vertical-align: top;\n",
              "    }\n",
              "\n",
              "    .dataframe thead th {\n",
              "        text-align: right;\n",
              "    }\n",
              "</style>\n",
              "<table border=\"1\" class=\"dataframe\">\n",
              "  <thead>\n",
              "    <tr style=\"text-align: right;\">\n",
              "      <th></th>\n",
              "      <th>Index</th>\n",
              "      <th>Organization Id</th>\n",
              "      <th>Name</th>\n",
              "      <th>Website</th>\n",
              "      <th>Country</th>\n",
              "      <th>Description</th>\n",
              "      <th>Founded</th>\n",
              "      <th>Industry</th>\n",
              "      <th>Number of employees</th>\n",
              "    </tr>\n",
              "  </thead>\n",
              "  <tbody>\n",
              "    <tr>\n",
              "      <th>1</th>\n",
              "      <td>2</td>\n",
              "      <td>6A7EdDEA9FaDC52</td>\n",
              "      <td>Mckinney, Riley and Day</td>\n",
              "      <td>http://www.hall-buchanan.info/</td>\n",
              "      <td>Finland</td>\n",
              "      <td>User-centric system-worthy leverage</td>\n",
              "      <td>2015</td>\n",
              "      <td>Glass / Ceramics / Concrete</td>\n",
              "      <td>4952</td>\n",
              "    </tr>\n",
              "  </tbody>\n",
              "</table>\n",
              "</div>"
            ],
            "text/plain": [
              "   Index  Organization Id                     Name  \\\n",
              "1      2  6A7EdDEA9FaDC52  Mckinney, Riley and Day   \n",
              "\n",
              "                          Website  Country  \\\n",
              "1  http://www.hall-buchanan.info/  Finland   \n",
              "\n",
              "                           Description  Founded                     Industry  \\\n",
              "1  User-centric system-worthy leverage     2015  Glass / Ceramics / Concrete   \n",
              "\n",
              "   Number of employees  \n",
              "1                 4952  "
            ]
          },
          "execution_count": 45,
          "metadata": {},
          "output_type": "execute_result"
        }
      ],
      "source": [
        "#@title Step 5.1: Filter data by a column\n",
        "\n",
        "#CHANGE THIS VALUES\n",
        "column_name = 'Country'\n",
        "\n",
        "#CHANGE THIS VALUES\n",
        "filter_value = 'Finland'\n",
        "\n",
        "filtered_dataframe = dataframe[dataframe[column_name] == filter_value]\n",
        "filtered_dataframe"
      ]
    },
    {
      "cell_type": "markdown",
      "metadata": {},
      "source": [
        "Step 5.2: Export as Excel"
      ]
    },
    {
      "cell_type": "code",
      "execution_count": 46,
      "metadata": {
        "colab": {
          "base_uri": "https://localhost:8080/"
        },
        "id": "AthxjCshzf6g",
        "outputId": "0068016e-ec10-4697-8348-3fd7217da4f3"
      },
      "outputs": [
        {
          "name": "stdout",
          "output_type": "stream",
          "text": [
            "Excel created successfully.\n"
          ]
        }
      ],
      "source": [
        "#@title Step 5.2: Export as Excel {display-mode: \"form\"}\n",
        "\n",
        "filtered_dataframe.to_excel(os.getcwd() + \"/content/output_filter_by_\" + column_name + \".xlsx\", sheet_name=\"main\", index=False)\n",
        "\n",
        "print('Excel created successfully.')"
      ]
    },
    {
      "cell_type": "markdown",
      "metadata": {},
      "source": [
        "Step 6.1: Filter data by a column"
      ]
    },
    {
      "cell_type": "code",
      "execution_count": 47,
      "metadata": {},
      "outputs": [
        {
          "data": {
            "text/html": [
              "<div>\n",
              "<style scoped>\n",
              "    .dataframe tbody tr th:only-of-type {\n",
              "        vertical-align: middle;\n",
              "    }\n",
              "\n",
              "    .dataframe tbody tr th {\n",
              "        vertical-align: top;\n",
              "    }\n",
              "\n",
              "    .dataframe thead th {\n",
              "        text-align: right;\n",
              "    }\n",
              "</style>\n",
              "<table border=\"1\" class=\"dataframe\">\n",
              "  <thead>\n",
              "    <tr style=\"text-align: right;\">\n",
              "      <th></th>\n",
              "      <th>Index</th>\n",
              "      <th>Organization Id</th>\n",
              "      <th>Name</th>\n",
              "      <th>Website</th>\n",
              "      <th>Country</th>\n",
              "      <th>Description</th>\n",
              "      <th>Founded</th>\n",
              "      <th>Industry</th>\n",
              "      <th>Number of employees</th>\n",
              "    </tr>\n",
              "  </thead>\n",
              "  <tbody>\n",
              "    <tr>\n",
              "      <th>24</th>\n",
              "      <td>25</td>\n",
              "      <td>5fDBeA8BB91a000</td>\n",
              "      <td>Jenkins Inc</td>\n",
              "      <td>http://www.kirk.biz/</td>\n",
              "      <td>South Africa</td>\n",
              "      <td>Front-line systematic help-desk</td>\n",
              "      <td>2002</td>\n",
              "      <td>Insurance</td>\n",
              "      <td>1215</td>\n",
              "    </tr>\n",
              "  </tbody>\n",
              "</table>\n",
              "</div>"
            ],
            "text/plain": [
              "    Index  Organization Id         Name               Website       Country  \\\n",
              "24     25  5fDBeA8BB91a000  Jenkins Inc  http://www.kirk.biz/  South Africa   \n",
              "\n",
              "                        Description  Founded   Industry  Number of employees  \n",
              "24  Front-line systematic help-desk     2002  Insurance                 1215  "
            ]
          },
          "execution_count": 47,
          "metadata": {},
          "output_type": "execute_result"
        }
      ],
      "source": [
        "#@title Step 6.1: Filter data by a column\n",
        "\n",
        "#CHANGE THIS VALUES\n",
        "column_name = 'Industry'\n",
        "\n",
        "#CHANGE THIS VALUES\n",
        "filter_value = 'Insurance'\n",
        "\n",
        "filtered_dataframe = dataframe[dataframe[column_name] == filter_value]\n",
        "filtered_dataframe"
      ]
    },
    {
      "cell_type": "markdown",
      "metadata": {},
      "source": [
        "Step 6.2: Export as Excel"
      ]
    },
    {
      "cell_type": "code",
      "execution_count": 48,
      "metadata": {},
      "outputs": [
        {
          "name": "stdout",
          "output_type": "stream",
          "text": [
            "Excel created successfully.\n"
          ]
        }
      ],
      "source": [
        "#@title Step 6.2: Export as Excel {display-mode: \"form\"}\n",
        "\n",
        "filtered_dataframe.to_excel(os.getcwd() + \"/content/output_filter_by_\" + column_name + \".xlsx\", sheet_name=\"main\", index=False)\n",
        "\n",
        "print('Excel created successfully.')"
      ]
    },
    {
      "cell_type": "markdown",
      "metadata": {},
      "source": [
        "Step 7.1: Filter data by a column"
      ]
    },
    {
      "cell_type": "code",
      "execution_count": 49,
      "metadata": {},
      "outputs": [
        {
          "data": {
            "text/html": [
              "<div>\n",
              "<style scoped>\n",
              "    .dataframe tbody tr th:only-of-type {\n",
              "        vertical-align: middle;\n",
              "    }\n",
              "\n",
              "    .dataframe tbody tr th {\n",
              "        vertical-align: top;\n",
              "    }\n",
              "\n",
              "    .dataframe thead th {\n",
              "        text-align: right;\n",
              "    }\n",
              "</style>\n",
              "<table border=\"1\" class=\"dataframe\">\n",
              "  <thead>\n",
              "    <tr style=\"text-align: right;\">\n",
              "      <th></th>\n",
              "      <th>Index</th>\n",
              "      <th>Organization Id</th>\n",
              "      <th>Name</th>\n",
              "      <th>Website</th>\n",
              "      <th>Country</th>\n",
              "      <th>Description</th>\n",
              "      <th>Founded</th>\n",
              "      <th>Industry</th>\n",
              "      <th>Number of employees</th>\n",
              "    </tr>\n",
              "  </thead>\n",
              "  <tbody>\n",
              "    <tr>\n",
              "      <th>2</th>\n",
              "      <td>3</td>\n",
              "      <td>0bFED1ADAE4bcC1</td>\n",
              "      <td>Hester Ltd</td>\n",
              "      <td>http://sullivan-reed.com/</td>\n",
              "      <td>China</td>\n",
              "      <td>Switchable scalable moratorium</td>\n",
              "      <td>1971</td>\n",
              "      <td>Public Safety</td>\n",
              "      <td>5287</td>\n",
              "    </tr>\n",
              "    <tr>\n",
              "      <th>54</th>\n",
              "      <td>55</td>\n",
              "      <td>e24D21BFd3bF1E5</td>\n",
              "      <td>Richard PLC</td>\n",
              "      <td>https://holden-coleman.net/</td>\n",
              "      <td>Mayotte</td>\n",
              "      <td>Object-based optimizing model</td>\n",
              "      <td>1971</td>\n",
              "      <td>Broadcast Media</td>\n",
              "      <td>4942</td>\n",
              "    </tr>\n",
              "    <tr>\n",
              "      <th>96</th>\n",
              "      <td>97</td>\n",
              "      <td>BA6Cd9Dae2Efd62</td>\n",
              "      <td>Good Ltd</td>\n",
              "      <td>http://duffy.com/</td>\n",
              "      <td>Anguilla</td>\n",
              "      <td>Reverse-engineered composite moratorium</td>\n",
              "      <td>1971</td>\n",
              "      <td>Consumer Services</td>\n",
              "      <td>4292</td>\n",
              "    </tr>\n",
              "  </tbody>\n",
              "</table>\n",
              "</div>"
            ],
            "text/plain": [
              "    Index  Organization Id         Name                      Website  \\\n",
              "2       3  0bFED1ADAE4bcC1   Hester Ltd    http://sullivan-reed.com/   \n",
              "54     55  e24D21BFd3bF1E5  Richard PLC  https://holden-coleman.net/   \n",
              "96     97  BA6Cd9Dae2Efd62     Good Ltd            http://duffy.com/   \n",
              "\n",
              "     Country                              Description  Founded  \\\n",
              "2      China           Switchable scalable moratorium     1971   \n",
              "54   Mayotte            Object-based optimizing model     1971   \n",
              "96  Anguilla  Reverse-engineered composite moratorium     1971   \n",
              "\n",
              "             Industry  Number of employees  \n",
              "2       Public Safety                 5287  \n",
              "54    Broadcast Media                 4942  \n",
              "96  Consumer Services                 4292  "
            ]
          },
          "execution_count": 49,
          "metadata": {},
          "output_type": "execute_result"
        }
      ],
      "source": [
        "#@title Step 7.1: Filter data by a column\n",
        "\n",
        "#CHANGE THIS VALUES\n",
        "column_name = 'Founded'\n",
        "\n",
        "#CHANGE THIS VALUES\n",
        "filter_value = 1971\n",
        "\n",
        "filtered_dataframe = dataframe[dataframe[column_name] == filter_value]\n",
        "filtered_dataframe"
      ]
    },
    {
      "cell_type": "markdown",
      "metadata": {},
      "source": [
        "Step 7.2: Export as Excel"
      ]
    },
    {
      "cell_type": "code",
      "execution_count": 50,
      "metadata": {},
      "outputs": [
        {
          "name": "stdout",
          "output_type": "stream",
          "text": [
            "Excel created successfully.\n"
          ]
        }
      ],
      "source": [
        "#@title Step 7.2: Export as Excel {display-mode: \"form\"}\n",
        "\n",
        "filtered_dataframe.to_excel(os.getcwd() + \"/content/output_filter_by_\" + column_name + \".xlsx\", sheet_name=\"main\", index=False)\n",
        "\n",
        "print('Excel created successfully.')"
      ]
    }
  ],
  "metadata": {
    "colab": {
      "provenance": []
    },
    "kernelspec": {
      "display_name": "Python 3",
      "name": "python3"
    },
    "language_info": {
      "codemirror_mode": {
        "name": "ipython",
        "version": 3
      },
      "file_extension": ".py",
      "mimetype": "text/x-python",
      "name": "python",
      "nbconvert_exporter": "python",
      "pygments_lexer": "ipython3",
      "version": "3.11.4"
    }
  },
  "nbformat": 4,
  "nbformat_minor": 0
}
